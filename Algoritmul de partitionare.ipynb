{
 "cells": [
  {
   "cell_type": "code",
   "execution_count": 1,
   "metadata": {},
   "outputs": [],
   "source": [
    "import numpy as np\n",
    "import itertools"
   ]
  },
  {
   "cell_type": "markdown",
   "metadata": {},
   "source": [
    "### Datele de intrare, conform query si accesari pe statii"
   ]
  },
  {
   "cell_type": "code",
   "execution_count": 190,
   "metadata": {},
   "outputs": [],
   "source": [
    "# prima varianta\n",
    "VA = np.array([[0, 1, 0, 1], [0, 1, 1, 0], [1, 0, 1, 1], [0, 0, 1, 1]]).reshape(4, 4)\n",
    "acc = np.array([[15, 10, 25], [10, 15, 10], [30, 25, 35], [5, 10, 0]]).reshape(4, 3)"
   ]
  },
  {
   "cell_type": "code",
   "execution_count": 173,
   "metadata": {},
   "outputs": [],
   "source": [
    "# fix exemplul din curs\n",
    "VA = np.array([[1, 0, 0, 1], [0, 1, 0, 1], [0, 1, 1, 0], [0, 0, 1, 1]]).reshape(4, 4)\n",
    "acc = np.array([[10, 20, 30], [0, 15, 0], [3, 25, 0], [15, 5, 10]]).reshape(4, 3)"
   ]
  },
  {
   "cell_type": "code",
   "execution_count": 301,
   "metadata": {},
   "outputs": [],
   "source": [
    "# ceva care merge\n",
    "VA = np.array([[1, 1, 0, 0], [0, 0, 0, 1], [1, 0, 0, 0], [0, 0, 0, 1]]).reshape(4, 4)\n",
    "acc = np.array([[5, 20, 5], [10, 15, 10], [30, 25, 35], [5, 10, 0]]).reshape(4, 3)"
   ]
  },
  {
   "cell_type": "code",
   "execution_count": 318,
   "metadata": {},
   "outputs": [],
   "source": [
    "# variatiuni pe aceeasi tema, merge si asta\n",
    "VA = np.array([[1, 1, 0, 0], [0, 1, 0, 1], [1, 0, 0, 0], [0, 0, 0, 1]]).reshape(4, 4)\n",
    "acc = np.array([[5, 20, 5], [10, 15, 10], [30, 25, 35], [5, 10, 0]]).reshape(4, 3)"
   ]
  },
  {
   "cell_type": "markdown",
   "metadata": {},
   "source": [
    "### Constructie AA conform afinitatilor"
   ]
  },
  {
   "cell_type": "markdown",
   "metadata": {},
   "source": [
    "Avem\n",
    "$$aff(A_i, A_j) := \\sum_{k \\in K}\\sum_{\\forall S_l}ref_l(q_k) \\cdot acc_l(q_k)$$\n",
    "unde alegem $ref_l(q_k) = 0$, pentru $\\forall l, \\forall k$."
   ]
  },
  {
   "cell_type": "code",
   "execution_count": 319,
   "metadata": {},
   "outputs": [],
   "source": [
    "def K(i, j):\n",
    "    iCol = VA[:, i]\n",
    "    jCol = VA[:, j]\n",
    "    res = []\n",
    "    for k in range(0, VA.shape[1]):\n",
    "        if iCol[k] == 1 and iCol[k] == jCol[k]:\n",
    "            res += [k]\n",
    "    return res"
   ]
  },
  {
   "cell_type": "code",
   "execution_count": 320,
   "metadata": {},
   "outputs": [],
   "source": [
    "def aff(i, j):\n",
    "    AFF = 0\n",
    "    for k in range(0, len(K(i, j))):\n",
    "        for p in range(0, acc.shape[1]):\n",
    "             AFF = AFF + acc[K(i, j)[k], p]\n",
    "    return AFF"
   ]
  },
  {
   "cell_type": "code",
   "execution_count": 321,
   "metadata": {},
   "outputs": [],
   "source": [
    "AA = []\n",
    "for i in range(0, VA.shape[0]):\n",
    "    for j in range(0, VA.shape[1]):\n",
    "        AA += [aff(i, j)]\n",
    "AA = np.array(AA).reshape(VA.shape[0], VA.shape[1])"
   ]
  },
  {
   "cell_type": "code",
   "execution_count": 322,
   "metadata": {},
   "outputs": [
    {
     "data": {
      "text/plain": [
       "array([[120,  30,   0,   0],\n",
       "       [ 30,  65,   0,  35],\n",
       "       [  0,   0,   0,   0],\n",
       "       [  0,  35,   0,  50]])"
      ]
     },
     "execution_count": 322,
     "metadata": {},
     "output_type": "execute_result"
    }
   ],
   "source": [
    "AA"
   ]
  },
  {
   "cell_type": "markdown",
   "metadata": {},
   "source": [
    "### Determinarea masurii AG maxime si a permutarii"
   ]
  },
  {
   "cell_type": "markdown",
   "metadata": {},
   "source": [
    "Cautam \n",
    "$$\\tau^{*} := \\arg \\max_{\\tau \\in S_{\\#statii}} AG_\\tau = \\arg \\max_{\\tau \\in S_{\\#statii}} \\sum_{i} \\sum_{j} aff(A_i, A_j) \\cdot \\big{[} aff(A_i, A_{j-1}) + aff(A_i, A_{j+1}) \\big{]}$$"
   ]
  },
  {
   "cell_type": "code",
   "execution_count": 323,
   "metadata": {},
   "outputs": [],
   "source": [
    "indexes = list(range(0, AA.shape[0]))"
   ]
  },
  {
   "cell_type": "code",
   "execution_count": 324,
   "metadata": {},
   "outputs": [],
   "source": [
    "permutations = np.array(list(itertools.permutations(indexes)))"
   ]
  },
  {
   "cell_type": "code",
   "execution_count": 325,
   "metadata": {},
   "outputs": [],
   "source": [
    "def ag(CA):\n",
    "    AG = 0\n",
    "    for i in range(0, CA.shape[0]):\n",
    "        for j in range(0, CA.shape[1]):\n",
    "            if j == 1:\n",
    "                AG = AG + CA[i, j] * CA[i, j + 1]\n",
    "            elif j == CA.shape[1] - 1:\n",
    "                AG = AG + CA[i, j] * CA[i, j - 1]\n",
    "            else:\n",
    "                AG = AG + CA[i, j] * (CA[i, j - 1] + CA[i, j + 1])\n",
    "    return AG"
   ]
  },
  {
   "cell_type": "code",
   "execution_count": 326,
   "metadata": {},
   "outputs": [],
   "source": [
    "AGmax = 0\n",
    "permutation_index = 0\n",
    "for i in range(0, permutations.shape[0]):\n",
    "    CA = AA[0:AA.shape[0], permutations[i]]\n",
    "    AG = ag(CA)\n",
    "    if AG > AGmax:\n",
    "        AGmax = AG\n",
    "        permutation_index = i"
   ]
  },
  {
   "cell_type": "code",
   "execution_count": 327,
   "metadata": {},
   "outputs": [
    {
     "data": {
      "text/plain": [
       "19150"
      ]
     },
     "execution_count": 327,
     "metadata": {},
     "output_type": "execute_result"
    }
   ],
   "source": [
    "AGmax"
   ]
  },
  {
   "cell_type": "code",
   "execution_count": 328,
   "metadata": {},
   "outputs": [
    {
     "data": {
      "text/plain": [
       "array([2, 0, 1, 3])"
      ]
     },
     "execution_count": 328,
     "metadata": {},
     "output_type": "execute_result"
    }
   ],
   "source": [
    "permutations[permutation_index]"
   ]
  },
  {
   "cell_type": "code",
   "execution_count": 329,
   "metadata": {},
   "outputs": [
    {
     "data": {
      "text/plain": [
       "array([[  0,   0,   0,   0],\n",
       "       [  0, 120,  30,   0],\n",
       "       [  0,  30,  65,  35],\n",
       "       [  0,   0,  35,  50]])"
      ]
     },
     "execution_count": 329,
     "metadata": {},
     "output_type": "execute_result"
    }
   ],
   "source": [
    "CA = AA[permutations[permutation_index],:]\n",
    "CA = CA[:, permutations[permutation_index]]\n",
    "CA"
   ]
  },
  {
   "cell_type": "markdown",
   "metadata": {},
   "source": [
    "### Incercarea partitionarilor, plecand de la CA"
   ]
  },
  {
   "cell_type": "markdown",
   "metadata": {},
   "source": [
    "$$AQ(q_i) := \\{ A_j \\ | \\ use(q_i, A_j) = 1 \\}$$"
   ]
  },
  {
   "cell_type": "code",
   "execution_count": 330,
   "metadata": {},
   "outputs": [],
   "source": [
    "def AQ(i):\n",
    "    res = []\n",
    "    for j in range(0, VA.shape[1]):\n",
    "        if VA[i, j] == 1:\n",
    "            res += [j]\n",
    "    return res"
   ]
  },
  {
   "cell_type": "code",
   "execution_count": 331,
   "metadata": {},
   "outputs": [],
   "source": [
    "def subseteq(set1, set2):\n",
    "    for i in range(0, len(set1)):\n",
    "        if set1[i] not in set2:\n",
    "            return False\n",
    "    return True"
   ]
  },
  {
   "cell_type": "markdown",
   "metadata": {},
   "source": [
    "In general, fie ca avem de calculat $TQ$, ori $BQ$, avem ca\n",
    "$$(T|B)Q := \\{ q_i \\ | \\ AQ(q_i) \\subseteq (T|B)A \\}$$"
   ]
  },
  {
   "cell_type": "code",
   "execution_count": 332,
   "metadata": {},
   "outputs": [],
   "source": [
    "def BTQ(BT):\n",
    "    res = []\n",
    "    for i in range(0, VA.shape[0]):\n",
    "        if subseteq(AQ(i), BT):\n",
    "            res += [i]\n",
    "    return res"
   ]
  },
  {
   "cell_type": "markdown",
   "metadata": {},
   "source": [
    "Costul pe o multime data de query-uri, fie $B$, $T$ ori $O$ se defineste ca fiind:\n",
    "$$CQ := \\sum_{q_i \\in (B|T|O)Q} \\sum_{\\forall S_j} acc_j(q_i)$$"
   ]
  },
  {
   "cell_type": "code",
   "execution_count": 333,
   "metadata": {},
   "outputs": [],
   "source": [
    "def CQ(BTO):\n",
    "    cost = 0\n",
    "    for i in range(0, len(BTO)):\n",
    "        for j in range(0, acc.shape[1]):\n",
    "            cost += acc[BTO[i], j]\n",
    "    return cost"
   ]
  },
  {
   "cell_type": "markdown",
   "metadata": {},
   "source": [
    "In acest moment, incercam partitionari prin alegerea punctelor pe diagonala principala, maximizand expresia \n",
    "$$z := CTQ \\cdot CBQ - COQ^2$$"
   ]
  },
  {
   "cell_type": "code",
   "execution_count": 334,
   "metadata": {},
   "outputs": [
    {
     "name": "stdout",
     "output_type": "stream",
     "text": [
      "Raport etapa 0\n",
      "Partitionarile sunt TA = [] BA = [0, 1, 2, 3]\n",
      "Masura calculata z = 0\n",
      "Multimile de query-uri TQ = [] BQ = [0, 1, 2, 3] OQ = []\n",
      "Costurile CTQ = 0 CBQ = 170 COQ = 0\n",
      "\n",
      "Raport etapa 1\n",
      "Partitionarile sunt TA = [2] BA = [0, 1, 3]\n",
      "Masura calculata z = 0\n",
      "Multimile de query-uri TQ = [] BQ = [0, 1, 2, 3] OQ = []\n",
      "Costurile CTQ = 0 CBQ = 170 COQ = 0\n",
      "\n",
      "Raport etapa 2\n",
      "Partitionarile sunt TA = [0, 2] BA = [1, 3]\n",
      "Masura calculata z = 3600\n",
      "Multimile de query-uri TQ = [2] BQ = [1, 3] OQ = [0]\n",
      "Costurile CTQ = 90 CBQ = 50 COQ = 30\n",
      "\n",
      "Raport etapa 3\n",
      "Partitionarile sunt TA = [0, 1, 2] BA = [3]\n",
      "Masura calculata z = 575\n",
      "Multimile de query-uri TQ = [0, 2] BQ = [3] OQ = [1]\n",
      "Costurile CTQ = 120 CBQ = 15 COQ = 35\n",
      "\n",
      "Raport etapa 4\n",
      "Partitionarile sunt TA = [0, 1, 2, 3] BA = []\n",
      "Masura calculata z = 0\n",
      "Multimile de query-uri TQ = [0, 1, 2, 3] BQ = [] OQ = []\n",
      "Costurile CTQ = 170 CBQ = 0 COQ = 0\n",
      "\n"
     ]
    }
   ],
   "source": [
    "for i in range(0, permutations[permutation_index].shape[0] + 1):\n",
    "    TA = set(permutations[permutation_index][0:i])\n",
    "    BA = set(permutations[permutation_index]) - TA\n",
    "    TA = list(TA); BA = list(BA)\n",
    "    TQ = BTQ(TA); BQ = BTQ(BA)\n",
    "    OQ = list(set(permutations[permutation_index]) - set(TQ + BQ))\n",
    "    CTQ = CQ(TQ); CBQ = CQ(BQ); COQ = CQ(OQ)\n",
    "    z = CTQ * CBQ - COQ ** 2\n",
    "    print (\"Raport etapa\", i)\n",
    "    print (\"Partitionarile sunt\", \"TA =\", TA, \"BA =\", BA)\n",
    "    print (\"Masura calculata z =\", z)\n",
    "    print (\"Multimile de query-uri\", \"TQ =\", TQ, \"BQ =\", BQ, \"OQ =\", OQ)\n",
    "    print (\"Costurile\", \"CTQ =\", CTQ, \"CBQ =\", CBQ, \"COQ =\", COQ)\n",
    "    print (\"\")"
   ]
  },
  {
   "cell_type": "code",
   "execution_count": null,
   "metadata": {},
   "outputs": [],
   "source": []
  }
 ],
 "metadata": {
  "kernelspec": {
   "display_name": "Python 3",
   "language": "python",
   "name": "python3"
  },
  "language_info": {
   "codemirror_mode": {
    "name": "ipython",
    "version": 3
   },
   "file_extension": ".py",
   "mimetype": "text/x-python",
   "name": "python",
   "nbconvert_exporter": "python",
   "pygments_lexer": "ipython3",
   "version": "3.6.8"
  }
 },
 "nbformat": 4,
 "nbformat_minor": 2
}
